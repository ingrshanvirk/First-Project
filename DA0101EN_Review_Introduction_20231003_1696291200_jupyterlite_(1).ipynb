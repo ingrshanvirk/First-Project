{
  "cells": [
    {
      "cell_type": "markdown",
      "metadata": {
        "id": "view-in-github",
        "colab_type": "text"
      },
      "source": [
        "<a href=\"https://colab.research.google.com/github/ingrshanvirk/First-Project/blob/Data-Analysis-IBM-Coursera/DA0101EN_Review_Introduction_20231003_1696291200_jupyterlite_(1).ipynb\" target=\"_parent\"><img src=\"https://colab.research.google.com/assets/colab-badge.svg\" alt=\"Open In Colab\"/></a>"
      ]
    },
    {
      "cell_type": "markdown",
      "metadata": {
        "id": "3a93a7b8-fc10-4cba-8bd0-9be203eb683a"
      },
      "source": [
        "<p style=\"text-align:center\">\n",
        "    <a href=\"https://skills.network\" target=\"_blank\">\n",
        "    <img src=\"https://cf-courses-data.s3.us.cloud-object-storage.appdomain.cloud/assets/logos/SN_web_lightmode.png\" width=\"300\" alt=\"Skills Network Logo\">\n",
        "    </a>\n",
        "</p>\n",
        "\n",
        "# Importing Dataset\n",
        "\n",
        "Estimated time needed: **15** minutes\n",
        "\n",
        "## Objectives\n",
        "\n",
        "After completing this lab you will be able to:\n",
        "\n",
        "-   Acquire data in various ways\n",
        "-   Obtain insights from data with Pandas library\n"
      ]
    },
    {
      "cell_type": "code",
      "source": [],
      "metadata": {
        "id": "QzDNxMy-nSjK"
      },
      "execution_count": null,
      "outputs": []
    },
    {
      "cell_type": "markdown",
      "metadata": {
        "id": "5713dabd-8d83-48ef-bf8f-447bbc359e78"
      },
      "source": [
        "<h2>Table of Contents</h2>\n",
        "\n",
        "<div class=\"alert alert-block alert-info\" style=\"margin-top: 20px\">\n",
        "<ol>\n",
        "    <li><a href=\"#Data-Acquisition\">Data Acquisition</a>\n",
        "    <li><a href=\"#Basic-Insights-from-the-Data-set\">Basic Insights from the Data set</a></li>\n",
        "</ol>\n",
        "\n",
        "\n",
        "</div>\n",
        "<hr>\n"
      ]
    },
    {
      "cell_type": "markdown",
      "metadata": {
        "id": "b6664ff5-0917-4248-981c-661022465ac0"
      },
      "source": [
        "# Data Acquisition\n",
        "<p>\n",
        "A data set is typically a file containing data stored in one of several formats. Common file formats containing data sets include: .csv, .json, .xlsx etc. The data set can be stored in different places, on your local machine, on a server or a websiite, cloud storage and so on.<br>\n",
        "\n",
        "To analyse data in a Python notebook, we need to bring the data set into the notebook. In this section, you will learn how to load a data set into our Jupyter Notebook.<br>\n",
        "\n",
        "In our case, the Automobile Data set is an online source, and it is in a CSV (comma separated value) format. Let's use this data set as an example to practice reading data.\n",
        "<ul>\n",
        "    <li>Data source: <a href=\"https://archive.ics.uci.edu/ml/machine-learning-databases/autos/imports-85.data\" target=\"_blank\">https://archive.ics.uci.edu/ml/machine-learning-databases/autos/imports-85.data</a></li>\n",
        "    <li>Data type: csv</li>\n",
        "</ul>\n",
        "The Pandas Library is a very popular and very useful tool that enables us to read various datasets into a data frame; our Jupyter notebook platforms have a built-in <b>Pandas Library</b> so that all we need to do is import Pandas without installing.\n",
        "</p>\n"
      ]
    },
    {
      "cell_type": "code",
      "metadata": {
        "id": "f4bb8821-7903-49db-bf7f-8b107c67d20e"
      },
      "outputs": [],
      "source": [
        "# uncomment the lines below if you need to install specific version of libraries if using this notebook\n",
        "# in an environment where these libraries are not installed\n",
        "#! mamba install pandas==1.3.3  -y\n",
        "#! mamba install numpy=1.21.2 -y"
      ],
      "execution_count": null
    },
    {
      "cell_type": "code",
      "metadata": {
        "id": "271ac1c5-2bdd-4c15-8311-be80a822de30"
      },
      "outputs": [],
      "source": [
        "# import pandas library\n",
        "import pandas as pd\n",
        "import numpy as np"
      ],
      "execution_count": null
    },
    {
      "cell_type": "markdown",
      "metadata": {
        "id": "056afc0d-6457-4c43-ac52-cd50e9478cec"
      },
      "source": [
        "<h2>Read Data</h2>\n",
        "<p>\n",
        "We utilize the <code>pandas.read_csv()</code> function for reading CSV files. However, in this version of the lab, which operates on JupyterLite, the dataset needs to be downloaded to the interface using the provided code below.\n",
        "</p>\n"
      ]
    },
    {
      "cell_type": "markdown",
      "metadata": {
        "id": "cfaf686e-e918-46d3-8120-3ecaf953e92a"
      },
      "source": [
        "The functions below will download the dataset into your browser:\n"
      ]
    },
    {
      "cell_type": "code",
      "metadata": {
        "id": "ffc92b4f-bac7-4f42-89b2-820968291a46"
      },
      "outputs": [],
      "source": [
        "from pyodide.http import pyfetch\n",
        "\n",
        "async def download(url, filename):\n",
        "    response = await pyfetch(url)\n",
        "    if response.status == 200:\n",
        "        with open(filename, \"wb\") as f:\n",
        "            f.write(await response.bytes())"
      ],
      "execution_count": null
    },
    {
      "cell_type": "code",
      "metadata": {
        "id": "ffeaf446-659c-4571-971f-d8d61194d708"
      },
      "outputs": [],
      "source": [
        "file_path='https://cf-courses-data.s3.us.cloud-object-storage.appdomain.cloud/IBMDeveloperSkillsNetwork-DA0101EN-SkillsNetwork/labs/Data%20files/auto.csv'"
      ],
      "execution_count": null
    },
    {
      "cell_type": "markdown",
      "metadata": {
        "id": "8a6f54cd-6768-473d-84fb-29969a7f4f4b"
      },
      "source": [
        "To obtain the dataset, utilize the download() function as defined above:\n"
      ]
    },
    {
      "cell_type": "code",
      "metadata": {
        "id": "7aba12d4-c873-4003-b073-b3b57d48e796"
      },
      "outputs": [],
      "source": [
        "await download(file_path, \"auto.csv\")\n",
        "file_name=\"auto.csv\""
      ],
      "execution_count": null
    },
    {
      "cell_type": "markdown",
      "metadata": {
        "id": "d3ae4428-df28-420d-9213-825ebbc866e0"
      },
      "source": [
        "Utilize the Pandas method `read_csv()` to load the data into a dataframe.\n"
      ]
    },
    {
      "cell_type": "code",
      "metadata": {
        "id": "c0acccbf-32c3-442a-996c-5326d63d6377"
      },
      "outputs": [],
      "source": [
        "df = pd.read_csv(file_name)"
      ],
      "execution_count": null
    },
    {
      "cell_type": "markdown",
      "metadata": {
        "id": "c24ef98f-5472-4734-a046-e11e7471beef"
      },
      "source": [
        "> Note: This version of the lab is working on JupyterLite, which requires the dataset to be downloaded to the interface.While working on the downloaded version of this notebook on their local machines(Jupyter Anaconda), the learners can simply **skip the steps above,** and simply use the URL directly in the `pandas.read_csv()` function. You can uncomment and run the statements in the cell below.\n"
      ]
    },
    {
      "cell_type": "code",
      "metadata": {
        "id": "2a0d7438-a8f9-42a7-99a9-31a33da228bd"
      },
      "outputs": [],
      "source": [
        "#filepath = \"https://cf-courses-data.s3.us.cloud-object-storage.appdomain.cloud/IBMDeveloperSkillsNetwork-DA0101EN-SkillsNetwork/labs/Data%20files/auto.csv\"\n",
        "#df = pd.read_csv(filepath, header=None)"
      ],
      "execution_count": null
    },
    {
      "cell_type": "markdown",
      "metadata": {
        "id": "9b24263b-d053-499f-931b-3b83c9e0674c"
      },
      "source": [
        "After reading the data set, we can use the <code>data_frame.head(n)</code> method to check the top n rows of the data frame, where n is an integer. Contrary to <code>data_frame.head(n)</code>, <code>data_frame.tail(n)</code> will show you the bottom n rows of the data frame.\n"
      ]
    },
    {
      "cell_type": "code",
      "metadata": {
        "id": "127d0057-0eb7-43c7-b0e7-131343132798"
      },
      "outputs": [],
      "source": [
        "# show the first 5 rows using dataframe.head() method\n",
        "print(\"The first 5 rows of the dataframe\")\n",
        "df.head(5)"
      ],
      "execution_count": null
    },
    {
      "cell_type": "markdown",
      "metadata": {
        "id": "0ee92e07-dd1d-4666-97ae-54f73b4f554f"
      },
      "source": [
        "<div class=\"alert alert-danger alertdanger\" style=\"margin-top: 20px\">\n",
        "<h1> Question #1: </h1>\n",
        "<b>Check the bottom 10 rows of data frame \"df\".</b>\n",
        "</div>\n"
      ]
    },
    {
      "cell_type": "code",
      "metadata": {
        "id": "8acd4f24-7741-44b9-8bf2-ca4d4e2ae3e9"
      },
      "outputs": [],
      "source": [
        "# Write your code below and press Shift+Enter to execute\n"
      ],
      "execution_count": null
    },
    {
      "cell_type": "markdown",
      "metadata": {
        "id": "afa7be07-c92c-4d13-ab33-f63d560e438c"
      },
      "source": [
        "<details><summary>Click here for the solution</summary>\n",
        "\n",
        "```python\n",
        "print(\"The last 10 rows of the dataframe\\n\")\n",
        "df.tail(10)\n",
        "```\n"
      ]
    },
    {
      "cell_type": "markdown",
      "metadata": {
        "id": "e2457491-66f9-45e7-aab3-fafafe2042fb"
      },
      "source": [
        "<h3>Add Headers</h3>\n",
        "<p>\n",
        "Take a look at the data set. Pandas automatically set the header with an integer starting from 0.\n",
        "</p>\n",
        "<p>\n",
        "To better describe the data, you can introduce a header. This information is available at:  <a href=\"https://archive.ics.uci.edu/ml/datasets/Automobile\" target=\"_blank\">https://archive.ics.uci.edu/ml/datasets/Automobile</a>.\n",
        "</p>\n",
        "<p>\n",
        "Thus, you have to add headers manually.\n",
        "</p>\n",
        "<p>\n",
        "First, create a list \"headers\" that include all column names in order.\n",
        "Then, use <code>dataframe.columns = headers</code> to replace the headers with the list you created.\n",
        "</p>\n"
      ]
    },
    {
      "cell_type": "code",
      "metadata": {
        "id": "393722c9-cc7c-46f2-8c95-bb857bcc9c9b"
      },
      "outputs": [],
      "source": [
        "# create headers list\n",
        "headers = [\"symboling\",\"normalized-losses\",\"make\",\"fuel-type\",\"aspiration\", \"num-of-doors\",\"body-style\",\n",
        "         \"drive-wheels\",\"engine-location\",\"wheel-base\", \"length\",\"width\",\"height\",\"curb-weight\",\"engine-type\",\n",
        "         \"num-of-cylinders\", \"engine-size\",\"fuel-system\",\"bore\",\"stroke\",\"compression-ratio\",\"horsepower\",\n",
        "         \"peak-rpm\",\"city-mpg\",\"highway-mpg\",\"price\"]\n",
        "print(\"headers\\n\", headers)"
      ],
      "execution_count": null
    },
    {
      "cell_type": "markdown",
      "metadata": {
        "id": "c5088f16-47b8-42e3-9eb6-1a4b88ad2ce7"
      },
      "source": [
        " Replace headers and recheck our data frame:\n"
      ]
    },
    {
      "cell_type": "code",
      "metadata": {
        "id": "e85a5e7f-319f-4689-8674-fbf27366b721"
      },
      "outputs": [],
      "source": [
        "df.columns = headers\n",
        "df.columns"
      ],
      "execution_count": null
    },
    {
      "cell_type": "markdown",
      "metadata": {
        "id": "de690d2b-0eb7-448a-ac3d-682a2c68696e"
      },
      "source": [
        "You can also see the first 10 entries of the updated data frame and note that the headers are updated.\n"
      ]
    },
    {
      "cell_type": "code",
      "metadata": {
        "id": "95030528-6901-4f5c-a7e3-ed65bca79ddf"
      },
      "outputs": [],
      "source": [
        "df.head(10)"
      ],
      "execution_count": null
    },
    {
      "cell_type": "markdown",
      "metadata": {
        "id": "be354196-b2f4-4824-b6f3-46859a019e35"
      },
      "source": [
        "Now, we need to replace the \"?\" symbol with NaN so the dropna() can remove the missing values:\n"
      ]
    },
    {
      "cell_type": "code",
      "metadata": {
        "id": "c4194e92-2669-40d3-9507-4ffbe981a9f1"
      },
      "outputs": [],
      "source": [
        "df1=df.replace('?',np.NaN)\n"
      ],
      "execution_count": null
    },
    {
      "cell_type": "markdown",
      "metadata": {
        "id": "f7bf76d0-47fa-4275-a2ea-f2b934e1303c"
      },
      "source": [
        "You can drop missing values along the column \"price\" as follows:\n"
      ]
    },
    {
      "cell_type": "code",
      "metadata": {
        "id": "f659f821-2a99-47bc-a5e9-ed7ce95e4549"
      },
      "outputs": [],
      "source": [
        "df=df1.dropna(subset=[\"price\"], axis=0)\n",
        "df.head(20)"
      ],
      "execution_count": null
    },
    {
      "cell_type": "markdown",
      "metadata": {
        "id": "2bff20b2-206c-4346-ba33-11e6454e72a6"
      },
      "source": [
        "Here, `axis=0` means that the contents along the entire row will be dropped wherever the entity 'price' is found to be NaN\n",
        "\n",
        "Now, you have successfully read the raw data set and added the correct headers into the data frame.\n"
      ]
    },
    {
      "cell_type": "markdown",
      "metadata": {
        "id": "20cca681-f420-4e1c-ac64-186f820c92c0"
      },
      "source": [
        " <div class=\"alert alert-danger alertdanger\" style=\"margin-top: 20px\">\n",
        "<h1> Question #2: </h1>\n",
        "<b>Find the name of the columns of the dataframe.</b>\n",
        "</div>\n"
      ]
    },
    {
      "cell_type": "code",
      "metadata": {
        "id": "5855bbea-f935-4f85-b2b5-f6854e2aa9fe"
      },
      "outputs": [],
      "source": [
        "# Write your code below and press Shift+Enter to execute\n"
      ],
      "execution_count": null
    },
    {
      "cell_type": "markdown",
      "metadata": {
        "id": "949ad25a-aa4d-422a-bdef-d3d54067d342"
      },
      "source": [
        "<details><summary>Click here for the solution</summary>\n",
        "\n",
        "```python\n",
        "print(df.columns)\n",
        "```\n",
        "\n",
        "</details>\n"
      ]
    },
    {
      "cell_type": "markdown",
      "metadata": {
        "id": "58791ae0-ae7b-4a8c-afaa-4f04eea6e3e0"
      },
      "source": [
        "<h2>Save Dataset</h2>\n",
        "<p>\n",
        "Correspondingly, Pandas enables you to save the data set to CSV. By using the <code>dataframe.to_csv()</code> method, you can add the file path and name along with quotation marks in the brackets.\n",
        "</p>\n",
        "<p>\n",
        "For example, if you save the data frame <b>df</b> as <b>automobile.csv</b> to your local machine, you may use the syntax below, where <code>index = False</code> means the row names will not be written.\n",
        "</p>\n"
      ]
    },
    {
      "cell_type": "raw",
      "metadata": {
        "id": "04ecb988-2590-41fe-8399-b2f3b025ae84"
      },
      "source": [
        "df.to_csv(\"automobile.csv\", index=False)"
      ]
    },
    {
      "cell_type": "markdown",
      "metadata": {
        "id": "2fb9d7a9-ca4a-461f-8a65-a94d30be78fa"
      },
      "source": [
        "You can also read and save other file formats. You can use similar functions like **`pd.read_csv()`** and **`df.to_csv()`** for other data formats. The functions are listed in the following table:\n"
      ]
    },
    {
      "cell_type": "markdown",
      "metadata": {
        "id": "5520869c-03ca-48f2-a835-0d9eed744fbd"
      },
      "source": [
        "<h2>Read/Save Other Data Formats</h2>\n",
        "\n",
        "| Data Formate |        Read       |            Save |\n",
        "| ------------ | :---------------: | --------------: |\n",
        "| csv          |  `pd.read_csv()`  |   `df.to_csv()` |\n",
        "| json         |  `pd.read_json()` |  `df.to_json()` |\n",
        "| excel        | `pd.read_excel()` | `df.to_excel()` |\n",
        "| hdf          |  `pd.read_hdf()`  |   `df.to_hdf()` |\n",
        "| sql          |  `pd.read_sql()`  |   `df.to_sql()` |\n",
        "| ...          |        ...        |             ... |\n"
      ]
    },
    {
      "cell_type": "markdown",
      "metadata": {
        "id": "3218e116-8745-4910-8f6f-bb48a61177c0"
      },
      "source": [
        "# Basic Insights from the Data set\n",
        "<p>\n",
        "After reading data into Pandas dataframe, it is time for you to explore the data set.<br>\n",
        "\n",
        "There are several ways to obtain essential insights of the data to help you better understand it.\n",
        "</p>\n"
      ]
    },
    {
      "cell_type": "markdown",
      "metadata": {
        "id": "5b3ef39d-4b5b-42a3-ac59-153e12b7fc3e"
      },
      "source": [
        "<h2>Data Types</h2>\n",
        "<p>\n",
        "Data has a variety of types.<br>\n",
        "\n",
        "The main types stored in Pandas data frames are <b>object</b>, <b>float</b>, <b>int</b>, <b>bool</b> and <b>datetime64</b>. In order to better learn about each attribute, you should always know the data type of each column. In Pandas:\n",
        "</p>\n"
      ]
    },
    {
      "cell_type": "code",
      "metadata": {
        "id": "cf6f3840-f4cb-499a-a3ea-530ffb8e32d9"
      },
      "outputs": [],
      "source": [
        "df.dtypes\n"
      ],
      "execution_count": null
    },
    {
      "cell_type": "markdown",
      "metadata": {
        "id": "7e9a7ee3-f05c-4967-b6c8-b1752d8dc4a8"
      },
      "source": [
        "Returns a series with the data type of each column.\n"
      ]
    },
    {
      "cell_type": "code",
      "metadata": {
        "id": "31c9d6dd-b4e4-4601-81d7-f1d9039f274a"
      },
      "outputs": [],
      "source": [
        "# check the data type of data frame \"df\" by .dtypes\n",
        "print(df.dtypes)"
      ],
      "execution_count": null
    },
    {
      "cell_type": "markdown",
      "metadata": {
        "id": "732d7086-fb75-410a-b068-9febdb3df66b"
      },
      "source": [
        "<p>\n",
        "As shown above, you can clearly to see that the data type of \"symboling\" and \"curb-weight\" are <code>int64</code>, \"normalized-losses\" is <code>object</code>, and \"wheel-base\" is <code>float64</code>, etc.\n",
        "</p>\n",
        "<p>\n",
        "These data types can be changed; you will learn how to accomplish this in a later module.\n",
        "</p>\n"
      ]
    },
    {
      "cell_type": "markdown",
      "metadata": {
        "id": "33e3f2b8-d983-4213-8d67-9e4f8692eea0"
      },
      "source": [
        "<h2>Describe</h2>\n",
        "If we would like to get a statistical summary of each column such as count, column mean value, column standard deviation, etc., use the describe method:\n"
      ]
    },
    {
      "cell_type": "raw",
      "metadata": {
        "id": "b0b4138f-51c6-41fd-88b2-171830ade65a"
      },
      "source": [
        "dataframe.describe()"
      ]
    },
    {
      "cell_type": "markdown",
      "metadata": {
        "id": "92816f8b-bf63-4784-9320-522a0e5e2c59"
      },
      "source": [
        "This method will provide various summary statistics, excluding <code>NaN</code> (Not a Number) values.\n"
      ]
    },
    {
      "cell_type": "code",
      "metadata": {
        "id": "fd0b09fb-9d1c-4db9-b49f-be8a79be29cb"
      },
      "outputs": [],
      "source": [
        "df.describe()"
      ],
      "execution_count": null
    },
    {
      "cell_type": "markdown",
      "metadata": {
        "id": "bb35ab8c-12b4-4e4f-804e-bdb34db29945"
      },
      "source": [
        "<p>\n",
        "This shows the statistical summary of all numeric-typed (int, float) columns.<br>\n",
        "\n",
        "For example, the attribute \"symboling\" has 205 counts, the mean value of this column is 0.83, the standard deviation is 1.25, the minimum value is -2, 25th percentile is 0, 50th percentile is 1, 75th percentile is 2, and the maximum value is 3.\n",
        "<br>\n",
        "\n",
        "However, what if you would also like to check all the columns including those that are of type object?\n",
        "<br><br>\n",
        "\n",
        "You can add an argument <code>include = \"all\"</code> inside the bracket. Try it again.\n",
        "\n",
        "</p>\n"
      ]
    },
    {
      "cell_type": "code",
      "metadata": {
        "id": "2f213471-268a-4c44-ae61-66d6840ff8b7"
      },
      "outputs": [],
      "source": [
        "# describe all the columns in \"df\"\n",
        "df.describe(include = \"all\")"
      ],
      "execution_count": null
    },
    {
      "cell_type": "markdown",
      "metadata": {
        "id": "0fd49aad-595f-4c94-bd67-ebc5c7adb39b"
      },
      "source": [
        "<p>\n",
        "Now it provides the statistical summary of all the columns, including object-typed attributes.<br>\n",
        "\n",
        "YOu can now see how many unique values there, which one is the top value, and the frequency of the top value in the object-typed columns.<br>\n",
        "\n",
        "Some values in the table above show \"NaN\". Those numbers are not available regarding a particular column type.<br>\n",
        "</p>\n"
      ]
    },
    {
      "cell_type": "markdown",
      "metadata": {
        "id": "d6796dcb-8488-4057-92d8-3b1bd476e3d7"
      },
      "source": [
        "<div class=\"alert alert-danger alertdanger\" style=\"margin-top: 20px\">\n",
        "<h1> Question #3: </h1>\n",
        "\n",
        "<p>\n",
        "You can select the columns of a dataframe by indicating the name of each column. For example, you can select the three columns as follows:\n",
        "</p>\n",
        "<p>\n",
        "    <code>dataframe[[' column 1 ',column 2', 'column 3']]</code>\n",
        "</p>\n",
        "<p>\n",
        "Where \"column\" is the name of the column, you can apply the method  \".describe()\" to get the statistics of those columns as follows:\n",
        "</p>\n",
        "<p>\n",
        "    <code>dataframe[[' column 1 ',column 2', 'column 3'] ].describe()</code>\n",
        "</p>\n",
        "\n",
        "Apply the  method to \".describe()\" to the columns 'length' and 'compression-ratio'.\n",
        "\n",
        "</div>\n"
      ]
    },
    {
      "cell_type": "code",
      "metadata": {
        "id": "0534e174-92fd-48c1-9b2f-52076f908788"
      },
      "outputs": [],
      "source": [
        "# Write your code below and press Shift+Enter to execute\n"
      ],
      "execution_count": null
    },
    {
      "cell_type": "markdown",
      "metadata": {
        "id": "2a5c6914-9c84-482e-af04-071dcb00ede2"
      },
      "source": [
        "\n",
        "<details><summary>Click here for the solution</summary>\n",
        "\n",
        "```python\n",
        "df[['length', 'compression-ratio']].describe()\n",
        "```\n",
        "\n",
        "</details>\n"
      ]
    },
    {
      "cell_type": "markdown",
      "metadata": {
        "id": "a635fca9-0517-4615-ab15-25233faa07b6"
      },
      "source": [
        "<h2>Info</h2>\n",
        "You can also use another method to check your data set:\n"
      ]
    },
    {
      "cell_type": "raw",
      "metadata": {
        "id": "5dcf18fb-54dd-4f23-8926-f5ff0809fe57"
      },
      "source": [
        "dataframe.info()"
      ]
    },
    {
      "cell_type": "markdown",
      "metadata": {
        "id": "b0af3826-f44e-44cd-b816-21b9de78daff"
      },
      "source": [
        "It provides a concise summary of your data frame.\n",
        "\n",
        "This method prints information about a data frame including the index dtype and columns, non-null values and memory usage.\n"
      ]
    },
    {
      "cell_type": "code",
      "metadata": {
        "id": "19699017-b3a5-4d11-8ef8-d78ce29f6fda"
      },
      "outputs": [],
      "source": [
        "# look at the info of \"df\"\n",
        "df.info()"
      ],
      "execution_count": null
    },
    {
      "cell_type": "markdown",
      "metadata": {
        "id": "c7b311ae-3dde-4a01-85d8-5d6a6fb81684"
      },
      "source": [
        "<h1>Excellent! You have just completed the  Introduction Notebook.</h1>\n"
      ]
    },
    {
      "cell_type": "markdown",
      "metadata": {
        "id": "76233efc-4f23-4839-94cd-98b4103c6d67"
      },
      "source": [
        "### Thank you for completing this lab.\n",
        "\n",
        "## Author\n",
        "\n",
        "<a href=\"https://www.linkedin.com/in/joseph-s-50398b136/\" target=\"_blank\">Joseph Santarcangelo</a>\n",
        "\n",
        "### Other Contributors\n",
        "\n",
        "<a href=\"https://www.linkedin.com/in/mahdi-noorian-58219234/\" target=\"_blank\">Mahdi Noorian PhD</a>\n",
        "\n",
        "Bahare Talayian\n",
        "\n",
        "Eric Xiao\n",
        "\n",
        "Steven Dong\n",
        "\n",
        "Parizad\n",
        "\n",
        "Hima Vasudevan\n",
        "\n",
        "<a href=\"https://www.linkedin.com/in/fiorellawever/\" target=\"_blank\">Fiorella Wenver</a>\n",
        "\n",
        "<a href=\" https://www.linkedin.com/in/yi-leng-yao-84451275/ \" target=\"_blank\" >Yi Yao</a>.\n",
        "\n",
        "<a href=\"https://www.coursera.org/instructor/~129186572/ \" target=\"_blank\" >Abhishek Gagneja</a>\n",
        "\n",
        "# <h3 align=\"center\"> © IBM Corporation 2023. All rights reserved. <h3/>\n",
        "\n",
        "<!--## Change Log\n",
        "\n",
        "| Date (YYYY-MM-DD) | Version | Changed By | Change Description                       |\n",
        "| ----------------- | ------- | ---------- | ---------------------------------------- |\n",
        "| 2023-09-28        | 2.4     | Abhishek Gagneja| Minor instructional update          |\n",
        "| 2020-10-30        | 2.3     | Lakshmi    | Changed URL of the csv                   |\n",
        "| 2020-09-22        | 2.2     | Nayef      | Added replace() method to remove '?'     |\n",
        "| 2020-09-09        | 2.1     | Lakshmi    | Made changes in info method of dataframe |\n",
        "| 2020-08-27        | 2.0     | Lavanya    | Moved lab to course repo in GitLab       |\n",
        "\n",
        "\n",
        "--!>\n",
        "<hr>\n"
      ]
    }
  ],
  "metadata": {
    "kernelspec": {
      "name": "python",
      "display_name": "Python (Pyodide)",
      "language": "python"
    },
    "language_info": {
      "codemirror_mode": {
        "name": "python",
        "version": 3
      },
      "file_extension": ".py",
      "mimetype": "text/x-python",
      "name": "python",
      "nbconvert_exporter": "python",
      "pygments_lexer": "ipython3",
      "version": "3.8"
    },
    "prev_pub_hash": "3ce92dba8e0ac1ed13802d76734c670d9248641d663628ccc0e66a71419f7916",
    "colab": {
      "provenance": [],
      "include_colab_link": true
    }
  },
  "nbformat": 4,
  "nbformat_minor": 0
}