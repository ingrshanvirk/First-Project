{
  "cells": [
    {
      "cell_type": "markdown",
      "metadata": {
        "id": "view-in-github",
        "colab_type": "text"
      },
      "source": [
        "<a href=\"https://colab.research.google.com/github/ingrshanvirk/First-Project/blob/Data-Analysis-IBM-Coursera/Practice_data_loading_jupyterlite.ipynb\" target=\"_parent\"><img src=\"https://colab.research.google.com/assets/colab-badge.svg\" alt=\"Open In Colab\"/></a>"
      ]
    },
    {
      "cell_type": "markdown",
      "metadata": {
        "id": "e1ff70cf-4d5a-4750-8921-26aed6042e78"
      },
      "source": [
        "<p style=\"text-align:center\">\n",
        "    <a href=\"https://skills.network\" target=\"_blank\">\n",
        "    <img src=\"https://cf-courses-data.s3.us.cloud-object-storage.appdomain.cloud/assets/logos/SN_web_lightmode.png\" width=\"300\" alt=\"Skills Network Logo\">\n",
        "    </a>\n",
        "</p>\n"
      ]
    },
    {
      "cell_type": "markdown",
      "metadata": {
        "id": "d189af1f-3479-42c0-93bc-ae3fba9bf391"
      },
      "source": [
        "# **Hands-on Practice Lab: Importing Dataset - Laptops Pricing**\n",
        "\n",
        "Estimated time needed: **20** minutes\n",
        "\n",
        "In this lab, you will practice the process of loading and drawing basic insights on a dataset as learnt through the module. You are being provided with a fresh dataset on 'Laptop Pricing' which will be used for all the practice labs throughout the course.\n"
      ]
    },
    {
      "cell_type": "markdown",
      "metadata": {
        "id": "45993487-03e4-453f-b344-2592316567ad"
      },
      "source": [
        "# Objectives\n",
        "\n",
        "After completing this lab you will be able to:\n",
        "\n",
        " - Import a dataset from a CSV file to a Pandas dataframe\n",
        " - Develop some basic insights about the dataset\n"
      ]
    },
    {
      "cell_type": "markdown",
      "metadata": {
        "id": "911bd4fa-33e2-48a0-b029-d61f61fe4d8d"
      },
      "source": [
        "# Setup\n"
      ]
    },
    {
      "cell_type": "markdown",
      "metadata": {
        "id": "52260602-5c74-4068-b461-521a2a3af489"
      },
      "source": [
        "For this lab, we will be using the following libraries:\n",
        "\n",
        "* `skillsnetwork` for downloading the daataset\n",
        "\n",
        "*   [`pandas`](https://pandas.pydata.org/?utm_medium=Exinfluencer&utm_source=Exinfluencer&utm_content=000026UJ&utm_term=10006555&utm_id=NA-SkillsNetwork-Channel-SkillsNetworkCoursesIBMML0187ENSkillsNetwork31430127-2021-01-01) for managing the data.\n",
        "*   [`numpy`](https://numpy.org/?utm_medium=Exinfluencer&utm_source=Exinfluencer&utm_content=000026UJ&utm_term=10006555&utm_id=NA-SkillsNetwork-Channel-SkillsNetworkCoursesIBMML0187ENSkillsNetwork31430127-2021-01-01) for mathematical operations.\n"
      ]
    },
    {
      "cell_type": "markdown",
      "metadata": {
        "id": "36f6ff98-f051-4c6f-95a9-c317ef1a55ee"
      },
      "source": [
        "### Importing Required Libraries\n"
      ]
    },
    {
      "cell_type": "code",
      "metadata": {
        "id": "e11d2a16-5c3c-4b6c-8338-4f7f89eafa2f"
      },
      "outputs": [],
      "source": [
        "import pandas as pd\n",
        "import numpy as np"
      ],
      "execution_count": null
    },
    {
      "cell_type": "markdown",
      "metadata": {
        "id": "cc48b607-ffd4-4dfc-9165-89863712305e"
      },
      "source": [
        "The data set to be used is available on the link below.\n"
      ]
    },
    {
      "cell_type": "markdown",
      "metadata": {
        "id": "3538f57c-a22c-4d51-acd1-aad799b38bc8"
      },
      "source": [
        "The functions below will download the dataset into your browser:\n"
      ]
    },
    {
      "cell_type": "code",
      "metadata": {
        "id": "e8591218-17c4-4c5e-9c31-2b44d1151092"
      },
      "outputs": [],
      "source": [
        "from pyodide.http import pyfetch\n",
        "\n",
        "async def download(url, filename):\n",
        "    response = await pyfetch(url)\n",
        "    if response.status == 200:\n",
        "        with open(filename, \"wb\") as f:\n",
        "            f.write(await response.bytes())"
      ],
      "execution_count": null
    },
    {
      "cell_type": "code",
      "metadata": {
        "id": "35bd934c-8453-4d9c-b881-29b95ab2a760"
      },
      "outputs": [],
      "source": [
        "file_path = \"https://cf-courses-data.s3.us.cloud-object-storage.appdomain.cloud/IBMDeveloperSkillsNetwork-DA0101EN-Coursera/laptop_pricing_dataset_base.csv\""
      ],
      "execution_count": null
    },
    {
      "cell_type": "markdown",
      "metadata": {
        "id": "78392040-eb0c-4832-b49e-1fc63288d48d"
      },
      "source": [
        "To obtain the dataset, utilize the download() function as defined above:\n"
      ]
    },
    {
      "cell_type": "code",
      "metadata": {
        "id": "d9bfe60c-5da5-4c0d-8620-b91b2026b1d5"
      },
      "outputs": [],
      "source": [
        "await download(file_path, \"laptops.csv\")\n",
        "file_name=\"laptops.csv\""
      ],
      "execution_count": null
    },
    {
      "cell_type": "code",
      "metadata": {
        "id": "ce393740-223d-4386-9b09-84c967ab06c1"
      },
      "outputs": [],
      "source": [
        "df = pd.read_csv(file_name)"
      ],
      "execution_count": null
    },
    {
      "cell_type": "markdown",
      "metadata": {
        "id": "088f5217-d115-4604-a31d-d46a47d879bd"
      },
      "source": [
        "> Note: This version of the lab is working on JupyterLite, which requires the dataset to be downloaded to the interface. While working on the downloaded version of this notebook on their local machines, the learners can simply **skip the steps above**, and simply use the URL directly in the `pandas.read_csv()` function. You can uncomment and run the statements in the cell below.\n"
      ]
    },
    {
      "cell_type": "code",
      "metadata": {
        "id": "be88b3cb-e22c-4f4a-a3ee-79d46980ea83"
      },
      "outputs": [],
      "source": [
        "#filepath = \"https://cf-courses-data.s3.us.cloud-object-storage.appdomain.cloud/IBMDeveloperSkillsNetwork-DA0101EN-Coursera/laptop_pricing_dataset_base.csv\"\n",
        "#df = pd.read_csv(filepath, header=None)"
      ],
      "execution_count": null
    },
    {
      "cell_type": "markdown",
      "metadata": {
        "id": "271dc1e4-a285-4cb4-984c-d71d40589586"
      },
      "source": [
        "<h1> Task #1: </h1>\n",
        "<h3>Load the dataset to a pandas dataframe named 'df'</h3>\n",
        "Print the first 5 entries of the dataset to confirm loading.\n"
      ]
    },
    {
      "cell_type": "code",
      "metadata": {
        "id": "63737082-49ca-4b7b-9ea9-3c9fb4279159"
      },
      "outputs": [],
      "source": [
        "# Write your code below and press Shift+Enter to execute.\n",
        "df = pd.read_csv(file_name, header=None)\n",
        "print(df.head())"
      ],
      "execution_count": null
    },
    {
      "cell_type": "markdown",
      "metadata": {
        "id": "37514c8a-4f03-45fe-b6d2-403cd8bf41da"
      },
      "source": [
        "<details><summary>Click here for solution</summary>\n",
        "\n",
        "```python\n",
        "df = pd.read_csv(file_name, header=None)\n",
        "print(df.head())\n",
        "```\n",
        "</details>\n"
      ]
    },
    {
      "cell_type": "markdown",
      "metadata": {
        "id": "e7755f18-7a1d-4abe-aeb3-4f278f2d8f6d"
      },
      "source": [
        "<h1> Task #2: </h1>\n",
        "<h3>Add headers to the dataframe</h3>\n",
        "The headers for the dataset, in sequence, are \"Manufacturer\", \"Category\", \"Screen\", \"GPU\", \"OS\", \"CPU_core\",\n",
        "\"Screen_Size_inch\", \"CPU_frequency\", \"RAM_GB\", \"Storage_GB_SSD\", \"Weight_kg\" and \"Price\".\n",
        "\n",
        "Confirm insertion by printing the first 10 rows of the dataset.\n"
      ]
    },
    {
      "cell_type": "code",
      "metadata": {
        "id": "3e953772-244a-494e-9068-f7dbf5a5da91"
      },
      "outputs": [],
      "source": [
        "# Write your code below and press Shift+Enter to execute.\n"
      ],
      "execution_count": null
    },
    {
      "cell_type": "markdown",
      "metadata": {
        "id": "175e4555-28de-4b51-903c-a63ea32ac8d9"
      },
      "source": [
        "<details><summary>Click here for solution</summary>\n",
        "\n",
        "```python\n",
        "# create headers list\n",
        "headers = [\"Manufacturer\", \"Category\", \"Screen\", \"GPU\", \"OS\", \"CPU_core\", \"Screen_Size_inch\", \"CPU_frequency\", \"RAM_GB\", \"Storage_GB_SSD\", \"Weight_kg\", \"Price\"]\n",
        "df.columns = headers\n",
        "print(df.head(10))\n",
        "```\n",
        "</details>\n"
      ]
    },
    {
      "cell_type": "markdown",
      "metadata": {
        "id": "781eca93-3216-4e07-aeca-a79842e113b3"
      },
      "source": [
        "<h1> Task #3: </h1>\n",
        "<h3>Replace '?' with 'NaN'</h3>\n",
        "Replace the '?' entries in the dataset with NaN value, recevied from the Numpy package.\n"
      ]
    },
    {
      "cell_type": "code",
      "metadata": {
        "id": "0600228b-0c8f-4f51-9d6e-dcc1b0768f60"
      },
      "outputs": [],
      "source": [
        "# Write your code below and press Shift+Enter to execute.\n"
      ],
      "execution_count": null
    },
    {
      "cell_type": "markdown",
      "metadata": {
        "id": "00615384-b6d9-4cf5-b810-11e187057550"
      },
      "source": [
        "<details><summary>Click here for solution</summary>\n",
        "\n",
        "```python\n",
        "df.replace('?',np.nan, inplace = True)\n",
        "```\n",
        "</details>\n"
      ]
    },
    {
      "cell_type": "markdown",
      "metadata": {
        "id": "984935d3-f42f-4a77-a00c-d766436d51e3"
      },
      "source": [
        "<h1> Task #4: </h1>\n",
        "<h3>Print the data types of the dataframe columns</h3>\n",
        "Make a note of the data types of the different columns of the dataset.\n"
      ]
    },
    {
      "cell_type": "code",
      "metadata": {
        "id": "9524ba4c-9268-479d-8423-a6238ac28627"
      },
      "outputs": [],
      "source": [
        "# Write your code below and press Shift+Enter to execute.\n"
      ],
      "execution_count": null
    },
    {
      "cell_type": "markdown",
      "metadata": {
        "id": "7e62c0b8-6919-4a3a-b83f-641293ff4d0e"
      },
      "source": [
        "<details><summary>Click here for solution</summary>\n",
        "\n",
        "```python\n",
        "print(df.dtypes)\n",
        "```\n",
        "</details>\n"
      ]
    },
    {
      "cell_type": "markdown",
      "metadata": {
        "id": "953a8b55-3dad-4874-89a6-d2638deffefe"
      },
      "source": [
        "<h1> Task #5: </h1>\n",
        "<h3>Print the statistical description of the dataset, including that of 'object' data types.</h3>\n"
      ]
    },
    {
      "cell_type": "code",
      "metadata": {
        "id": "99b53b23-26ef-43bd-8151-446ab7929663"
      },
      "outputs": [],
      "source": [
        "# Write your code below and press Shift+Enter to execute.\n"
      ],
      "execution_count": null
    },
    {
      "cell_type": "markdown",
      "metadata": {
        "id": "8d9a1d75-daea-4eda-82fb-d4031b206c44"
      },
      "source": [
        "<details><summary>Click here for solution</summary>\n",
        "\n",
        "```python\n",
        "print(df.describe(include='all'))\n",
        "```\n",
        "</details>\n"
      ]
    },
    {
      "cell_type": "markdown",
      "metadata": {
        "id": "261662a5-e15a-4db7-8931-2e22d0ea2c42"
      },
      "source": [
        "<h1> Task #6: </h1>\n",
        "<h3>Print the summary information of the dataset.</h3>\n"
      ]
    },
    {
      "cell_type": "code",
      "metadata": {
        "id": "43f81d4b-8cbe-459f-89eb-6ac26236fa47"
      },
      "outputs": [],
      "source": [
        "# Write your code below and press Shift+Enter to execute.\n"
      ],
      "execution_count": null
    },
    {
      "cell_type": "markdown",
      "metadata": {
        "id": "049cb263-241b-4879-a130-5b66572c9360"
      },
      "source": [
        "<details><summary>Click here for solution</summary>\n",
        "\n",
        "```python\n",
        "print(df.info())\n",
        "```\n",
        "</details>\n"
      ]
    },
    {
      "cell_type": "markdown",
      "metadata": {
        "id": "1dde3631-6222-48f2-bf37-3147442b9b2a"
      },
      "source": [
        "---\n"
      ]
    },
    {
      "cell_type": "markdown",
      "metadata": {
        "id": "23b48e94-8200-4d1c-8ba0-9ca3a178be80"
      },
      "source": [
        "# Congratulations! You have completed the lab\n"
      ]
    },
    {
      "cell_type": "markdown",
      "metadata": {
        "id": "e83a89e3-11a9-4ba5-ac13-71fd67c8a82e"
      },
      "source": [
        "## Authors\n"
      ]
    },
    {
      "cell_type": "markdown",
      "metadata": {
        "id": "fb5989ca-aec3-415b-9a09-e885a1be89e1"
      },
      "source": [
        "[Abhishek Gagneja](https://www.coursera.org/instructor/~129186572)\n",
        "\n",
        "[Vicky Kuo](https://author.skills.network/instructors/vicky_kuo)\n"
      ]
    },
    {
      "cell_type": "markdown",
      "metadata": {
        "id": "abe149ad-12bc-48d7-8c7b-9dfa9d97a47d"
      },
      "source": [
        "Copyright © 2023 IBM Corporation. All rights reserved.\n"
      ]
    },
    {
      "cell_type": "markdown",
      "metadata": {
        "id": "8d27f7bf-1404-497c-b56e-b4104bd0dcdc"
      },
      "source": [
        "<!--## Change Log\n"
      ]
    },
    {
      "cell_type": "markdown",
      "metadata": {
        "id": "c5597a9f-3057-4f39-82e6-99273d4b5f31"
      },
      "source": [
        "<!--|Date (YYYY-MM-DD)|Version|Changed By|Change Description|\n",
        "|-|-|-|-|\n",
        "|2023-09-15|0.1|Abhishek Gagneja|Initial Version Created|\n",
        "|2023-09-18|0.2|Vicky Kuo|Reviewed and Revised|--!>\n"
      ]
    }
  ],
  "metadata": {
    "kernelspec": {
      "name": "python",
      "display_name": "Python (Pyodide)",
      "language": "python"
    },
    "language_info": {
      "codemirror_mode": {
        "name": "python",
        "version": 3
      },
      "file_extension": ".py",
      "mimetype": "text/x-python",
      "name": "python",
      "nbconvert_exporter": "python",
      "pygments_lexer": "ipython3",
      "version": "3.8"
    },
    "prev_pub_hash": "7997b8a71ae7e2680cb74e72fc353601a4a722981b15b6b93a8bf964c115ec58",
    "colab": {
      "provenance": [],
      "include_colab_link": true
    }
  },
  "nbformat": 4,
  "nbformat_minor": 0
}